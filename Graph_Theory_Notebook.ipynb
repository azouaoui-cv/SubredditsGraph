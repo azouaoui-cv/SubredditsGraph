{
 "cells": [
  {
   "cell_type": "markdown",
   "metadata": {},
   "source": [
    "# RES 208: Graph Theory Final project\n",
    "\n",
    "## Reddit's subreddits links graph exploration\n",
    "\n",
    "\n",
    "[Alexandre Zouaoui](https://inzouzouwetrust.github.io/)\n",
    "\n",
    "**Creation date:** 2017/07/02\n",
    "\n",
    "**Updated:** \n",
    "\n",
    "*2018/04/19*\n",
    "* Code refactoring\n",
    "* Hiding credentials\n",
    "* Ready to be shared on GitHub\n",
    "\n",
    "\n",
    "\n",
    "### Introduction\n",
    "\n",
    "As a long time [reddit](https://www.reddit.com) user, I decided to build my own dataset using Reddit [API](https://www.reddit.com/dev/api/). Reddit is an American website aggregating news and discussions about anything you could possibly imagine. Reddit is composed of *subreddits* which are forums nested in the website. Each subreddit has a unique name that relates to the topics that are discussed over there. Telling examples would be:\n",
    "\n",
    "* [*r/worldnews*](https://www.reddit.com/r/worldnews/): where people discusses worldwide news and link to news articles.\n",
    "* [*r/aww*](https://www.reddit.com/r/aww/): where people post pictures of cute animals.\n",
    "* Not everything is in english. Each country has a devoted subreddit. France's is [*r/france*](https://www.reddit.com/r/france/).\n",
    "\n",
    "And the list goes on. There are litteraly thousands of subreddits.\n",
    "\n",
    "I am particularly interested in the relationships these subreddits have. One phenomenon that regularly occurs is when someone creates a thread on subreddit X that links directly to an other thread on subreddit Y. Redditors (people that browse Reddit) call this a *cross-post*.\n",
    "\n",
    "My goal was therefore to create a graph that would show these relationships and apply the different algorithms we saw throughtout the course.\n",
    "\n",
    "Luckily I did not have to start from scratch as there already exists a *Reddit bot* whose job consists in posting well-formatted comments on threads that have been cross-posted from another subreddit.\n",
    "\n",
    "For instance, if someone on *r/france* posts a detailed thread (A) explaining in english how the French voting system works for people that browse *r/france* but do not read French very well, someone from *r/europe* might be inclined to cross-post this thread on *r/europe* (B). In that case, a bot named [*u/TotesMessenger*](https://www.reddit.com/r/TotesMessenger/wiki/index) automatically creates a comment in thread A comment section indicating that this posts has been directly linked by someone on *r/europe*.\n",
    "\n",
    "Using the [PRAW: The Python Reddit API Wrapper](https://praw.readthedocs.io/en/latest/index.html) Python package I was able to retrieve such pairs of subreddits based on *u/TotesMessenger* comment history and I aggregated them into an Undirected Weighted graph. Undirected since when a thread is linked to another subreddit, said thread's subreddit is notified, so the relationship goes both way. Weighted since multiple threads from a given subreddit could have been linked to the same subreddit.\n",
    "\n",
    "One big flaw lies in the capped number of comments one can browse using Reddit API. Using only one kind of comment ranking (based on *new*: new comments, *top*: most upvoted comments or *hot*: both new and highly upvoted comments) one can get only 1000 comments. This amounts to roughly 550 nodes and not so many more edges when using the *top* ranking.\n",
    "\n",
    "In the following section I explain how I extracted the data after numerous tries. So far it has been the most exciting part of the project, since we had already applied the tools we studied in other lab sessions."
   ]
  },
  {
   "cell_type": "markdown",
   "metadata": {},
   "source": [
    "## Imports "
   ]
  },
  {
   "cell_type": "code",
   "execution_count": 1,
   "metadata": {
    "collapsed": false,
    "jupyter": {
     "outputs_hidden": false
    }
   },
   "outputs": [
    {
     "name": "stdout",
     "output_type": "stream",
     "text": [
      "Populating the interactive namespace from numpy and matplotlib\n"
     ]
    }
   ],
   "source": [
    "%pylab inline"
   ]
  },
  {
   "cell_type": "code",
   "execution_count": 26,
   "metadata": {},
   "outputs": [],
   "source": [
    "import praw # You might need to install this one\n",
    "import pprint\n",
    "import os\n",
    "import re\n",
    "import random\n",
    "\n",
    "import seaborn as sns\n",
    "sns.set_style(\"darkgrid\")\n",
    "\n",
    "import networkx as nx\n",
    "\n",
    "from scipy.stats import linregress\n",
    "from scipy.special import zeta\n",
    "\n",
    "import community\n",
    "\n",
    "from src.data import extract_data, save_data, import_graph"
   ]
  },
  {
   "cell_type": "code",
   "execution_count": 3,
   "metadata": {
    "collapsed": false,
    "jupyter": {
     "outputs_hidden": false
    }
   },
   "outputs": [],
   "source": [
    "dataset_path = './dataset'\n",
    "\n",
    "if not os.path.exists(dataset_path):\n",
    "    os.mkdir(dataset_path)"
   ]
  },
  {
   "cell_type": "markdown",
   "metadata": {},
   "source": [
    "## Data download"
   ]
  },
  {
   "cell_type": "markdown",
   "metadata": {},
   "source": [
    "To directly download the data, please open this Dropbox [link](https://www.dropbox.com/sh/syo0tscfn7tbgxs/AADs9fA-kYXxsz4UIQpjvTqMa?dl=0)."
   ]
  },
  {
   "cell_type": "markdown",
   "metadata": {},
   "source": [
    "## Data extraction"
   ]
  },
  {
   "cell_type": "markdown",
   "metadata": {},
   "source": [
    "### Identification\n",
    "\n",
    "One needs to authentificate in order to use Reddit API.\n",
    "\n",
    "I left my authentification scheme but feel free to use your own.\n",
    "\n",
    "If you do not have one already, you might want to create one following this [tutorial](https://github.com/reddit/reddit/wiki/OAuth2-Quick-Start-Example#first-steps) first steps. "
   ]
  },
  {
   "cell_type": "code",
   "execution_count": 4,
   "metadata": {},
   "outputs": [],
   "source": [
    "# Get a read-only Reddit object instance\n",
    "\n",
    "# To be able to add/modify/create Reddit content using a script,\n",
    "# one needs to add its username and its password as arguments\n",
    "    \n",
    "if os.path.exists('./private'):\n",
    "    from private import MY_CREDENTIALS\n",
    "    my_reddit = MY_CREDENTIALS\n",
    "\n",
    "else:\n",
    "    my_reddit = praw.Reddit(client_id='input_your_client_id_here',\n",
    "                     client_secret='input_your_client_password_here',\n",
    "                     user_agent='input_your_custom_user_agent_here')"
   ]
  },
  {
   "cell_type": "code",
   "execution_count": 5,
   "metadata": {
    "collapsed": false,
    "jupyter": {
     "outputs_hidden": false
    }
   },
   "outputs": [],
   "source": [
    "# Get a redditor object instance\n",
    "redditor = my_reddit.redditor('TotesMessenger')"
   ]
  },
  {
   "cell_type": "markdown",
   "metadata": {},
   "source": [
    "### Handy manipulations \n",
    "\n",
    "In this section I play with PRAW to highlight what we will later use to extract actual data."
   ]
  },
  {
   "cell_type": "code",
   "execution_count": 6,
   "metadata": {
    "collapsed": false,
    "jupyter": {
     "outputs_hidden": false
    }
   },
   "outputs": [
    {
     "name": "stdout",
     "output_type": "stream",
     "text": [
      "Subreddit on which was posted the comment: r/HamRadio \n",
      "\n",
      "('The comment itself...\\n'\n",
      " \" I'm a bot, *bleep*, *bloop*. Someone has linked to this thread from another \"\n",
      " 'place on reddit:\\n'\n",
      " '\\n'\n",
      " '- [/r/hamradioreboot] [I have politely asked the developers of Navit, a open '\n",
      " 'source car navigation system to add support for APRS symbols. I hope that '\n",
      " 'they implement the '\n",
      " 'request.](https://www.reddit.com/r/HamRadioReboot/comments/fd1shg/i_have_politely_asked_the_developers_of_navit_a/)\\n'\n",
      " '\\n'\n",
      " '&nbsp;*^(If you follow any of the above links, please respect the rules of '\n",
      " \"reddit and don't vote in the other threads.) ^\\\\([Info](/r/TotesMessenger) \"\n",
      " '^/ ^[Contact](/message/compose?to=/r/TotesMessenger))*')\n",
      "\n",
      "Subreddit on which was posted the comment: r/TIHI \n",
      "\n",
      "('The comment itself...\\n'\n",
      " ' Dieser Thread wurde an einem anderen Ort auf reddit verlinkt.\\n'\n",
      " '\\n'\n",
      " '- [/r/shitpost] [\\\\[TIHI\\\\] Redditor hates a country because of a clickbait '\n",
      " 'headline](https://www.reddit.com/r/shitpost/comments/fd1rda/tihi_redditor_hates_a_country_because_of_a/)\\n'\n",
      " '\\n'\n",
      " '&nbsp;*^(Falls du einem der oberen Links folgst, respektiere bitte die '\n",
      " 'reddit Regeln und stimme nicht über Kommentare) ^\\\\(oder ^Beiträge) ^ab.) '\n",
      " '^\\\\([Info](/r/TotesMessenger) ^/ '\n",
      " '^[Kontakt](/message/compose?to=/r/TotesMessenger) ^/ '\n",
      " '^[Fehler?](/message/compose?to=/r/TotesMessenger&subject=translation%20error%20(German\\\\)))*')\n",
      "\n"
     ]
    }
   ],
   "source": [
    "# Get a ListGenerating object to iterate over in order to get the redditor's comments\n",
    "\n",
    "list_generator = redditor.comments.new(limit=2) # Here we used 'new' as a comment ranking scheme\n",
    "\n",
    "for comment in list_generator:\n",
    "    # Get the subreddit name on which was posted the comment\n",
    "    print(\"Subreddit on which was posted the comment: %s \\n\" % comment.subreddit_name_prefixed) \n",
    "    pprint.pprint(\"The comment itself...\\n %s\" % comment.body) # Get the comment content\n",
    "    print(\"\")"
   ]
  },
  {
   "cell_type": "markdown",
   "metadata": {},
   "source": [
    "To get the subreddit where *cross-posting* has happened, I need to retrieve the [r/genericSubredditName] part of the comment body. I use Python Regular Expression package (``re``) to do so."
   ]
  },
  {
   "cell_type": "markdown",
   "metadata": {},
   "source": [
    "### Actual extraction "
   ]
  },
  {
   "cell_type": "code",
   "execution_count": 7,
   "metadata": {},
   "outputs": [
    {
     "name": "stdout",
     "output_type": "stream",
     "text": [
      "Number of nodes in the dataset: 564\n"
     ]
    }
   ],
   "source": [
    "labels, edges = extract_data(redditor)"
   ]
  },
  {
   "cell_type": "markdown",
   "metadata": {},
   "source": [
    "### Saving the data "
   ]
  },
  {
   "cell_type": "code",
   "execution_count": 8,
   "metadata": {
    "collapsed": false,
    "jupyter": {
     "outputs_hidden": false
    }
   },
   "outputs": [
    {
     "data": {
      "text/plain": [
       "True"
      ]
     },
     "execution_count": 8,
     "metadata": {},
     "output_type": "execute_result"
    }
   ],
   "source": [
    "save_data(labels, edges, dataset_path)"
   ]
  },
  {
   "cell_type": "markdown",
   "metadata": {},
   "source": [
    "## Importing the graph"
   ]
  },
  {
   "cell_type": "code",
   "execution_count": 9,
   "metadata": {},
   "outputs": [
    {
     "name": "stdout",
     "output_type": "stream",
     "text": [
      "Name: subreddits\n",
      "Type: Graph\n",
      "Number of nodes: 564\n",
      "Number of edges: 638\n",
      "Average degree:   2.2624\n"
     ]
    }
   ],
   "source": [
    "G = import_graph(dataset_path)"
   ]
  },
  {
   "cell_type": "markdown",
   "metadata": {},
   "source": [
    "## Visualization "
   ]
  },
  {
   "cell_type": "code",
   "execution_count": 20,
   "metadata": {},
   "outputs": [],
   "source": [
    "pos = nx.spring_layout(G)\n",
    "weights = nx.get_edge_attributes(G, 'weight')"
   ]
  },
  {
   "cell_type": "code",
   "execution_count": 21,
   "metadata": {
    "collapsed": false,
    "jupyter": {
     "outputs_hidden": false
    }
   },
   "outputs": [
    {
     "data": {
      "image/png": "[encoded data removed]",
      "text/plain": [
       "<Figure size 720x576 with 1 Axes>"
      ]
     },
     "metadata": {},
     "output_type": "display_data"
    }
   ],
   "source": [
    "# Visualization\n",
    "\n",
    "# Plotting the first 100 nodes using original graph layout\n",
    "subgraph = nx.subgraph(G, list(G)[:100])\n",
    "\n",
    "\n",
    "plt.figure(0, figsize=(10, 8))\n",
    "plt.axis('off')\n",
    "plt.title('First 100 nodes in original layout')\n",
    "nx.draw_networkx_nodes(subgraph, pos, node_size=50)\n",
    "nx.draw_networkx_edges(subgraph, pos)\n",
    "plt.show()"
   ]
  },
  {
   "cell_type": "markdown",
   "metadata": {},
   "source": [
    "First off, we notice that the graph is not connected. We can still retrieve the largest strongly connected component to get a better idea of the graph structure before using other metrics."
   ]
  },
  {
   "cell_type": "code",
   "execution_count": 55,
   "metadata": {
    "collapsed": false,
    "jupyter": {
     "outputs_hidden": false
    }
   },
   "outputs": [
    {
     "name": "stdout",
     "output_type": "stream",
     "text": [
      "Largest connected component number of nodes: 445\n"
     ]
    },
    {
     "ename": "AttributeError",
     "evalue": "'set' object has no attribute 'edges'",
     "output_type": "error",
     "traceback": [
      "\u001b[0;31m---------------------------------------------------------------------------\u001b[0m",
      "\u001b[0;31mAttributeError\u001b[0m                            Traceback (most recent call last)",
      "\u001b[0;32m<ipython-input-55-edacfa147481>\u001b[0m in \u001b[0;36m<module>\u001b[0;34m\u001b[0m\n\u001b[1;32m     10\u001b[0m \u001b[0mplt\u001b[0m\u001b[0;34m.\u001b[0m\u001b[0mtitle\u001b[0m\u001b[0;34m(\u001b[0m\u001b[0;34m'Largest connected component'\u001b[0m\u001b[0;34m)\u001b[0m\u001b[0;34m\u001b[0m\u001b[0;34m\u001b[0m\u001b[0m\n\u001b[1;32m     11\u001b[0m \u001b[0mnx\u001b[0m\u001b[0;34m.\u001b[0m\u001b[0mdraw_networkx_nodes\u001b[0m\u001b[0;34m(\u001b[0m\u001b[0mcore\u001b[0m\u001b[0;34m,\u001b[0m \u001b[0mcore_pos\u001b[0m\u001b[0;34m,\u001b[0m \u001b[0mnode_size\u001b[0m\u001b[0;34m=\u001b[0m\u001b[0;36m50\u001b[0m\u001b[0;34m)\u001b[0m\u001b[0;34m\u001b[0m\u001b[0;34m\u001b[0m\u001b[0m\n\u001b[0;32m---> 12\u001b[0;31m \u001b[0mnx\u001b[0m\u001b[0;34m.\u001b[0m\u001b[0mdraw_networkx_edges\u001b[0m\u001b[0;34m(\u001b[0m\u001b[0mcore\u001b[0m\u001b[0;34m,\u001b[0m \u001b[0mcore_pos\u001b[0m\u001b[0;34m)\u001b[0m\u001b[0;34m\u001b[0m\u001b[0;34m\u001b[0m\u001b[0m\n\u001b[0m\u001b[1;32m     13\u001b[0m \u001b[0mplt\u001b[0m\u001b[0;34m.\u001b[0m\u001b[0mshow\u001b[0m\u001b[0;34m(\u001b[0m\u001b[0;34m)\u001b[0m\u001b[0;34m\u001b[0m\u001b[0;34m\u001b[0m\u001b[0m\n",
      "\u001b[0;32m~/miniconda3/envs/p37/lib/python3.7/site-packages/networkx/drawing/nx_pylab.py\u001b[0m in \u001b[0;36mdraw_networkx_edges\u001b[0;34m(G, pos, edgelist, width, edge_color, style, alpha, arrowstyle, arrowsize, edge_cmap, edge_vmin, edge_vmax, ax, arrows, label, node_size, nodelist, node_shape, connectionstyle, min_source_margin, min_target_margin, **kwds)\u001b[0m\n\u001b[1;32m    574\u001b[0m \u001b[0;34m\u001b[0m\u001b[0m\n\u001b[1;32m    575\u001b[0m     \u001b[0;32mif\u001b[0m \u001b[0medgelist\u001b[0m \u001b[0;32mis\u001b[0m \u001b[0;32mNone\u001b[0m\u001b[0;34m:\u001b[0m\u001b[0;34m\u001b[0m\u001b[0;34m\u001b[0m\u001b[0m\n\u001b[0;32m--> 576\u001b[0;31m         \u001b[0medgelist\u001b[0m \u001b[0;34m=\u001b[0m \u001b[0mlist\u001b[0m\u001b[0;34m(\u001b[0m\u001b[0mG\u001b[0m\u001b[0;34m.\u001b[0m\u001b[0medges\u001b[0m\u001b[0;34m(\u001b[0m\u001b[0;34m)\u001b[0m\u001b[0;34m)\u001b[0m\u001b[0;34m\u001b[0m\u001b[0;34m\u001b[0m\u001b[0m\n\u001b[0m\u001b[1;32m    577\u001b[0m \u001b[0;34m\u001b[0m\u001b[0m\n\u001b[1;32m    578\u001b[0m     \u001b[0;32mif\u001b[0m \u001b[0;32mnot\u001b[0m \u001b[0medgelist\u001b[0m \u001b[0;32mor\u001b[0m \u001b[0mlen\u001b[0m\u001b[0;34m(\u001b[0m\u001b[0medgelist\u001b[0m\u001b[0;34m)\u001b[0m \u001b[0;34m==\u001b[0m \u001b[0;36m0\u001b[0m\u001b[0;34m:\u001b[0m  \u001b[0;31m# no edges!\u001b[0m\u001b[0;34m\u001b[0m\u001b[0;34m\u001b[0m\u001b[0m\n",
      "\u001b[0;31mAttributeError\u001b[0m: 'set' object has no attribute 'edges'"
     ]
    },
    {
     "data": {
      "image/png": "[encoded data removed]",
      "text/plain": [
       "<Figure size 720x576 with 1 Axes>"
      ]
     },
     "metadata": {},
     "output_type": "display_data"
    }
   ],
   "source": [
    "# Largest connected component\n",
    "\n",
    "core = max(nx.connected.connected_components(G), key=len)\n",
    "core_pos = nx.spring_layout(core)\n",
    "\n",
    "print(\"Largest connected component number of nodes: %d\" % len(core))\n",
    "\n",
    "plt.figure(1, figsize=(10, 8))\n",
    "plt.axis('off')\n",
    "plt.title('Largest connected component')\n",
    "nx.draw_networkx_nodes(core, core_pos, node_size=50)\n",
    "nx.draw_networkx_edges(core, core_pos)\n",
    "plt.show()"
   ]
  },
  {
   "cell_type": "markdown",
   "metadata": {},
   "source": [
    "## Degree metrics"
   ]
  },
  {
   "cell_type": "code",
   "execution_count": 27,
   "metadata": {
    "collapsed": false,
    "jupyter": {
     "outputs_hidden": false
    }
   },
   "outputs": [
    {
     "name": "stdout",
     "output_type": "stream",
     "text": [
      "Number of nodes: 564\n",
      "Maximum degree: 61\n",
      "Minimum degree: 1\n",
      "Average degree: 2.26\n",
      "Standard deviation: 4.63\n",
      "Largest component fraction: 0.79\n",
      "Normalized connected components number: 0.10\n"
     ]
    }
   ],
   "source": [
    "# Build a dictionary with node degrees\n",
    "\n",
    "node_degree = {node: G.degree(node) for node in G.nodes()}\n",
    "\n",
    "degree_values = list(node_degree.values())\n",
    "\n",
    "# Number of nodes\n",
    "\n",
    "n = G.number_of_nodes()\n",
    "print(\"Number of nodes: %d\" % n)\n",
    "\n",
    "# Maximum degree\n",
    "\n",
    "max_degree = max(degree_values)\n",
    "print(\"Maximum degree: %d\" % max_degree)\n",
    "\n",
    "# Minimum degree (we already know it is 1 by construction)\n",
    "\n",
    "print(\"Minimum degree: %d\" % min(degree_values))\n",
    "\n",
    "# Average degree (we computed it earlier)\n",
    "\n",
    "print(\"Average degree: %.2f\" % np.mean(degree_values))\n",
    "\n",
    "# Degree standard deviation\n",
    "\n",
    "print(\"Standard deviation: %.2f\" % np.std(degree_values))\n",
    "\n",
    "# Largest component fraction\n",
    "print(\"Largest component fraction: %.2f\" % (len(core) / n))\n",
    "\n",
    "# Normalized connected components number\n",
    "print(\"Normalized connected components number: %.2f\" % (nx.number_connected_components(G) / n))\n",
    "\n",
    "# There is no isolated nodes by construction"
   ]
  },
  {
   "cell_type": "markdown",
   "metadata": {},
   "source": [
    "The standard deviation relatively high value is a first indicator that we might have a power law in our hands."
   ]
  },
  {
   "cell_type": "code",
   "execution_count": 28,
   "metadata": {
    "collapsed": false,
    "jupyter": {
     "outputs_hidden": false
    }
   },
   "outputs": [
    {
     "data": {
      "image/png": "[encoded data removed]",
      "text/plain": [
       "<Figure size 720x576 with 1 Axes>"
      ]
     },
     "metadata": {},
     "output_type": "display_data"
    }
   ],
   "source": [
    "# Build degree distribution\n",
    "\n",
    "\n",
    "N = np.zeros((max(degree_values) + 1))\n",
    "p = np.zeros((max(degree_values) + 1))\n",
    "for node in G.nodes():\n",
    "    N[G.degree(node)] += 1\n",
    "    p[G.degree(node)] += 1. / n\n",
    "    \n",
    "# Plot the degree distribution in linear scale\n",
    "\n",
    "x_values = range(len(p))\n",
    "y_values = [p[x] for x in x_values]\n",
    "plt.figure(2, figsize=(10, 8))\n",
    "plt.title(\"Degree distribution (linear scale)\")\n",
    "plt.scatter(x_values, y_values)\n",
    "plt.show()"
   ]
  },
  {
   "cell_type": "code",
   "execution_count": 29,
   "metadata": {
    "collapsed": false,
    "jupyter": {
     "outputs_hidden": false
    }
   },
   "outputs": [
    {
     "data": {
      "image/png": "[encoded data removed]",
      "text/plain": [
       "<Figure size 720x576 with 1 Axes>"
      ]
     },
     "metadata": {},
     "output_type": "display_data"
    }
   ],
   "source": [
    "# Plot the degree distribution in logarithmic scale\n",
    "\n",
    "x_values = [x for x in range(1, len(p)) if p[x] > 0]\n",
    "y_values = [p[x] for x in x_values]\n",
    "plt.figure(3, figsize=(10, 8))\n",
    "plt.title(\"Degree distribution (log scale)\")\n",
    "plt.scatter(np.log(x_values), np.log(y_values))\n",
    "plt.show()"
   ]
  },
  {
   "cell_type": "markdown",
   "metadata": {},
   "source": [
    "This figure suggests that the degree distribution may follow a power law."
   ]
  },
  {
   "cell_type": "markdown",
   "metadata": {},
   "source": [
    "## Power law property "
   ]
  },
  {
   "cell_type": "code",
   "execution_count": 30,
   "metadata": {
    "collapsed": false,
    "jupyter": {
     "outputs_hidden": false
    }
   },
   "outputs": [
    {
     "name": "stdout",
     "output_type": "stream",
     "text": [
      "N40: 3\n",
      "N20: 6\n",
      "N10: 17\n",
      "N40/N20 ratio: 0.50\n",
      "N20/N10 ratio: 0.35\n",
      "Relative gap: 0.42\n"
     ]
    }
   ],
   "source": [
    "# Computing some ratios\n",
    "\n",
    "N_40 = np.sum(N[41:])\n",
    "print(\"N40: %d\" % N_40)\n",
    "N_20 = np.sum(N[21:])\n",
    "print(\"N20: %d\" % N_20)\n",
    "N_10 = np.sum(N[11:])\n",
    "print(\"N10: %d\" % N_10)\n",
    "\n",
    "ratio_1 = N_40 / N_20\n",
    "print(\"N40/N20 ratio: %.2f\" % ratio_1)\n",
    "\n",
    "ratio_2 = N_20 / N_10\n",
    "print(\"N20/N10 ratio: %.2f\" % ratio_2)\n",
    "\n",
    "print(\"Relative gap: %.2f\" % (abs(ratio_1 - ratio_2) / ratio_2))"
   ]
  },
  {
   "cell_type": "markdown",
   "metadata": {},
   "source": [
    "The $\\frac{N_{40}}{N_{20}}$ and $\\frac{N_{20}}{N_{10}}$ are not that close.\n",
    "\n",
    "We can still compute the estimated $\\gamma$."
   ]
  },
  {
   "cell_type": "code",
   "execution_count": 31,
   "metadata": {
    "collapsed": false,
    "jupyter": {
     "outputs_hidden": false
    }
   },
   "outputs": [
    {
     "name": "stdout",
     "output_type": "stream",
     "text": [
      "N40/N20 ratio slopde absolute value: 2.00\n",
      "N40/N20 ratio slopde absolute value: 2.50\n"
     ]
    }
   ],
   "source": [
    "# γ rough estimation\n",
    "\n",
    "γ1 = 1 - log(ratio_1) / log(2)\n",
    "print(\"N40/N20 ratio slopde absolute value: %.2f\" % γ1)\n",
    "γ2 = 1 - log(ratio_2) / log(2)\n",
    "print(\"N40/N20 ratio slopde absolute value: %.2f\" % γ2)"
   ]
  },
  {
   "cell_type": "markdown",
   "metadata": {},
   "source": [
    "It triggers my curiosity to look deeper into what kind of slope we can get using a combination of logarithmic-binning and linear regression."
   ]
  },
  {
   "cell_type": "code",
   "execution_count": 33,
   "metadata": {
    "collapsed": false,
    "jupyter": {
     "outputs_hidden": false
    }
   },
   "outputs": [
    {
     "data": {
      "image/png": "[encoded data removed]",
      "text/plain": [
       "<Figure size 720x576 with 1 Axes>"
      ]
     },
     "metadata": {},
     "output_type": "display_data"
    }
   ],
   "source": [
    "n_bins = int(floor(log2(max_degree)) + 1)\n",
    "Nbins = np.zeros(n_bins)\n",
    "for b in range(n_bins):\n",
    "    Nbins[b] = np.sum(N[2 ** b : min(2 ** (b + 1), max_degree)])\n",
    "    \n",
    "pbins = [Nbins[b] / (2 ** b * n) for b in range(n_bins - 1)]\n",
    "\n",
    "\n",
    "x_values = [2 ** b for b in range(n_bins - 1)]\n",
    "plt.figure(4, figsize=(10, 8))\n",
    "plt.title(\"Degree distribution (logarithmic binning)\")\n",
    "plt.scatter(np.log(x_values), np.log(pbins))\n",
    "plt.show()"
   ]
  },
  {
   "cell_type": "code",
   "execution_count": 34,
   "metadata": {
    "collapsed": false,
    "jupyter": {
     "outputs_hidden": false
    }
   },
   "outputs": [
    {
     "name": "stdout",
     "output_type": "stream",
     "text": [
      "Linear Regression result:\n",
      "LinregressResult(slope=-2.574449233080109, intercept=-0.44605650166470223, rvalue=-0.9996426734123797, pvalue=8.107903596614923e-06, stderr=0.03974548323604021)\n",
      "Estimated value of γ: 2.57\n"
     ]
    }
   ],
   "source": [
    "# Linear regression on previous plot\n",
    "\n",
    "linreg = linregress(np.log(x_values), np.log(pbins))\n",
    "print(\"Linear Regression result:\")\n",
    "print(linreg)\n",
    "print(\"Estimated value of γ: %.2f\" % -linreg.slope)"
   ]
  },
  {
   "cell_type": "markdown",
   "metadata": {},
   "source": [
    "That is a higher value than what we estimated earlier.\n",
    "\n",
    "To complete our Power Law analysis we might as well use Maximum Likelihood Estimation."
   ]
  },
  {
   "cell_type": "code",
   "execution_count": 35,
   "metadata": {
    "collapsed": false,
    "jupyter": {
     "outputs_hidden": false
    }
   },
   "outputs": [
    {
     "name": "stdout",
     "output_type": "stream",
     "text": [
      "Distance minimizer: 1.93\n"
     ]
    },
    {
     "data": {
      "image/png": "[encoded data removed]",
      "text/plain": [
       "<Figure size 720x576 with 1 Axes>"
      ]
     },
     "metadata": {},
     "output_type": "display_data"
    }
   ],
   "source": [
    "# Degree exponent estimation using Maximum Likelihood Estimation (lab 2 bonus)\n",
    "\n",
    "degree_array = np.array(degree_values)\n",
    "\n",
    "K_min_range = range(1, 50, 1)\n",
    "\n",
    "D_array = np.empty(len(K_min_range))\n",
    "γ_array = np.empty_like(D_array)\n",
    "\n",
    "for i, K_min in enumerate(K_min_range):\n",
    "    γ = 1. + 1. / np.mean(np.log(degree_array[degree_array >= K_min] / (K_min - .5)))\n",
    "    P = 1. - zeta(γ, np.arange(K_min, max_degree + 1)) / zeta(γ, K_min - .5)\n",
    "    S = np.cumsum(p[K_min:] / np.sum(p[K_min:]))\n",
    "    D_array[i] = np.max(np.abs(S - P))\n",
    "    γ_array[i] = γ\n",
    "    \n",
    "# Plotting γ and D in function of K_min\n",
    "\n",
    "plt.figure(5, figsize=(10, 8))\n",
    "plt.title(\"Distance between data degrees CDF and fitted model, and gamma in function of K_min\")\n",
    "plt.scatter(K_min_range, D_array, c='b', label='Distance b/w model and data')\n",
    "plt.scatter(K_min_range, γ_array, c='r', label='gamma')\n",
    "plt.legend(loc='best')\n",
    "plt.plot()\n",
    "\n",
    "# Retrieve γ that minimizes D\n",
    "\n",
    "min_D_idx = np.where(D_array == np.min(D_array))\n",
    "\n",
    "γ_star = γ_array[min_D_idx[0][0]]\n",
    "print(\"Distance minimizer: %.2f\" % γ_star)"
   ]
  },
  {
   "cell_type": "markdown",
   "metadata": {},
   "source": [
    "** Power law conclusion: **\n",
    "\n",
    "Needless to say that we get somewhat conflicting results.\n",
    "\n",
    "After computing two ratios and obtaining two associated slopes, we got a higher absolute value using Linear Regression while Maximum Likelihood Estimation yields a gamma closer to our first ratio.\n",
    "\n",
    "To conclude, while there seems to be a power law at play, it is not as strong as we could expect it to be if the graph were representing a social network with nodes being profiles. Here subreddits cannot quite be thought as profiles though they could be thought as Wikipedia pages. We may lack data as we were only able to retrieve approximately 550 nodes.  "
   ]
  },
  {
   "cell_type": "markdown",
   "metadata": {},
   "source": [
    "## Label to node conversion "
   ]
  },
  {
   "cell_type": "code",
   "execution_count": 36,
   "metadata": {},
   "outputs": [],
   "source": [
    "def import_labels(dataset_path=dataset_path):\n",
    "    labels = []\n",
    "    \n",
    "    with open(dataset_path + \"/label.txt\", \"r\") as file:\n",
    "        for line in file:\n",
    "            labels.append(line[0: -1])\n",
    "    \n",
    "    return labels"
   ]
  },
  {
   "cell_type": "code",
   "execution_count": 37,
   "metadata": {
    "collapsed": false,
    "jupyter": {
     "outputs_hidden": false
    }
   },
   "outputs": [],
   "source": [
    "labels = import_labels()\n",
    "node_from_label = {l: i for i, l in enumerate(labels)}"
   ]
  },
  {
   "cell_type": "code",
   "execution_count": 38,
   "metadata": {},
   "outputs": [],
   "source": [
    "def get_nodelist_from_subreddit_name(name):\n",
    "    rank = -1\n",
    "    for node in G.nodes():\n",
    "        if labels[node].find(name) >= 0:\n",
    "            rank = node\n",
    "            break\n",
    "    return rank"
   ]
  },
  {
   "cell_type": "code",
   "execution_count": 39,
   "metadata": {
    "collapsed": false,
    "jupyter": {
     "outputs_hidden": false
    }
   },
   "outputs": [],
   "source": [
    "rFrance_node = get_nodelist_from_subreddit_name(\"r/france\")\n",
    "rAnnouncements_node = get_nodelist_from_subreddit_name(\"r/announcements\")"
   ]
  },
  {
   "cell_type": "markdown",
   "metadata": {},
   "source": [
    "Let's assume the higher the weight, the fastest we can get into the next subreddit following this link.\n",
    "\n",
    "Our distance metrics then becomes the inversed previous weights."
   ]
  },
  {
   "cell_type": "markdown",
   "metadata": {},
   "source": [
    "## Small world property"
   ]
  },
  {
   "cell_type": "code",
   "execution_count": 40,
   "metadata": {
    "collapsed": false,
    "jupyter": {
     "outputs_hidden": false
    }
   },
   "outputs": [],
   "source": [
    "# Let's assume the higher the weight, the fastest we can get into the next subreddit following this link\n",
    "\n",
    "# Our distance metrics then\n",
    "weights_inv = nx.get_edge_attributes(G=G, name='weight')\n",
    "\n",
    "for key in weights_inv:\n",
    "    weights_inv[key] = 1 / weights_inv[key]\n",
    "    \n",
    "nx.set_edge_attributes(G=G, values=weights_inv, name='inverse weight')"
   ]
  },
  {
   "cell_type": "code",
   "execution_count": 41,
   "metadata": {
    "collapsed": false,
    "jupyter": {
     "outputs_hidden": false
    }
   },
   "outputs": [
    {
     "data": {
      "text/plain": [
       "3.5"
      ]
     },
     "execution_count": 41,
     "metadata": {},
     "output_type": "execute_result"
    }
   ],
   "source": [
    "# Shortest path length between r/france and r/announcements\n",
    "\n",
    "nx.shortest_path_length(G, source=rFrance_node, target=rAnnouncements_node, weight='inverse weight')"
   ]
  },
  {
   "cell_type": "code",
   "execution_count": 42,
   "metadata": {},
   "outputs": [],
   "source": [
    "def average_length_path(G, n_samples=100):\n",
    "    \n",
    "    \"\"\"\n",
    "    Computes the average length of the shorted paths between n_samples pairs of sources and targets chosen uniformly\n",
    "    at random in the graph.\n",
    "    \n",
    "    Inputs:\n",
    "    G: Graph on which is performed the computation\n",
    "    n_samples: number of shortest paths between pairs of sources and targets to compute (default: 1000)\n",
    "    \n",
    "    Outputs:\n",
    "    length_array: array of the shortest paths length of size n_samples\n",
    "    \"\"\"\n",
    "    \n",
    "    length_array = np.empty(n_samples)\n",
    "    \n",
    "    \n",
    "    for i in range(n_samples):\n",
    "        \n",
    "        pair = random.sample(G.nodes(), 2)\n",
    "        source = pair[0]\n",
    "        target = pair[1]\n",
    "        \n",
    "        while (not nx.has_path(G, source, target)):\n",
    "            pair = random.sample(G.nodes(), 2)\n",
    "            source = pair[0]\n",
    "            target = pair[1]\n",
    "        \n",
    "        length_array[i] = nx.shortest_path_length(G, source, target, weight='inverse weight')\n",
    "    \n",
    "    \n",
    "    return length_array"
   ]
  },
  {
   "cell_type": "code",
   "execution_count": 43,
   "metadata": {
    "collapsed": false,
    "jupyter": {
     "outputs_hidden": false
    }
   },
   "outputs": [
    {
     "name": "stdout",
     "output_type": "stream",
     "text": [
      "Average length path: 3.39\n"
     ]
    }
   ],
   "source": [
    "length_array = average_length_path(G)\n",
    "print(\"Average length path: %.2f\" % (np.sum(length_array) / len(length_array)))"
   ]
  },
  {
   "cell_type": "code",
   "execution_count": 44,
   "metadata": {
    "collapsed": false,
    "jupyter": {
     "outputs_hidden": false
    }
   },
   "outputs": [
    {
     "data": {
      "image/png": "[encoded data removed]",
      "text/plain": [
       "<Figure size 432x360 with 1 Axes>"
      ]
     },
     "metadata": {},
     "output_type": "display_data"
    }
   ],
   "source": [
    "# Shortest path length distribution\n",
    "\n",
    "plt.figure(6, figsize=(6, 5))\n",
    "plt.title(\"Shortest path length distribution\")\n",
    "plt.hist(length_array, bins=range(8), range=[0, 8])\n",
    "plt.show()"
   ]
  },
  {
   "cell_type": "markdown",
   "metadata": {},
   "source": [
    "## Degree centrality"
   ]
  },
  {
   "cell_type": "code",
   "execution_count": 45,
   "metadata": {
    "collapsed": false,
    "jupyter": {
     "outputs_hidden": false
    }
   },
   "outputs": [
    {
     "data": {
      "text/plain": [
       "['r/bestof',\n",
       " 'r/nocontext',\n",
       " 'r/shitpost',\n",
       " 'r/botsrights',\n",
       " 'r/hailcorporate',\n",
       " 'r/drama',\n",
       " 'r/circlebroke2',\n",
       " 'r/titlegore',\n",
       " 'r/subredditdrama',\n",
       " 'r/SubredditSimulator']"
      ]
     },
     "execution_count": 45,
     "metadata": {},
     "output_type": "execute_result"
    }
   ],
   "source": [
    "# Top 10 central nodes\n",
    "\n",
    "decreasing_degree = sorted(labels, key=lambda x : G.degree(node_from_label[x]), reverse=True)\n",
    "decreasing_degree[:10]"
   ]
  },
  {
   "cell_type": "markdown",
   "metadata": {},
   "source": [
    "## Page Rank"
   ]
  },
  {
   "cell_type": "code",
   "execution_count": 46,
   "metadata": {
    "collapsed": false,
    "jupyter": {
     "outputs_hidden": false
    }
   },
   "outputs": [
    {
     "data": {
      "text/plain": [
       "['r/bestof',\n",
       " 'r/nocontext',\n",
       " 'r/shitpost',\n",
       " 'r/hailcorporate',\n",
       " 'r/botsrights',\n",
       " 'r/drama',\n",
       " 'r/circlebroke2',\n",
       " 'r/SubredditSimulator',\n",
       " 'r/againsthatesubreddits',\n",
       " 'r/jesuschristreddit']"
      ]
     },
     "execution_count": 46,
     "metadata": {},
     "output_type": "execute_result"
    }
   ],
   "source": [
    "dic = nx.pagerank(G, alpha=1/2)\n",
    "sorted_nx_page_rank = sorted(labels, key=lambda x : dic[node_from_label[x]], reverse=True)\n",
    "sorted_nx_page_rank[:10]"
   ]
  },
  {
   "cell_type": "markdown",
   "metadata": {},
   "source": [
    "Notice how we got the exact same results in *approximately* the same order.\n",
    "\n",
    "By the way I do not have a clue about what most of these subreddits are about."
   ]
  },
  {
   "cell_type": "markdown",
   "metadata": {},
   "source": [
    "### Betweenness centrality"
   ]
  },
  {
   "cell_type": "code",
   "execution_count": 47,
   "metadata": {
    "collapsed": false,
    "jupyter": {
     "outputs_hidden": false
    }
   },
   "outputs": [
    {
     "name": "stdout",
     "output_type": "stream",
     "text": [
      "Is G bipartite? False\n"
     ]
    }
   ],
   "source": [
    "# G Bipartition\n",
    "print(\"Is G bipartite? %s\" % nx.is_bipartite(G))"
   ]
  },
  {
   "cell_type": "markdown",
   "metadata": {},
   "source": [
    "Hence we cannot compute the betweenness centrality using ``nx.betweenness_centrality`` function."
   ]
  },
  {
   "cell_type": "markdown",
   "metadata": {},
   "source": [
    "## Clustering"
   ]
  },
  {
   "cell_type": "code",
   "execution_count": 48,
   "metadata": {},
   "outputs": [],
   "source": [
    "# Display the graph with its 16 largest clusters\n",
    "\n",
    "def display_graph(G,com,pos,figsize = (8,8),node_size = 200,alpha = 0.5):\n",
    "    color = ['r','b','g','c','m','y','k','0.8','0.2','0.6','0.4','0.7','0.3','0.9','0.1','0.5']\n",
    "    k = min(len(color),len(com))\n",
    "    length = [len(c) for c in com]\n",
    "    index = np.argsort(-np.array(length))\n",
    "    plt.figure(figsize=figsize)\n",
    "    plt.axis('off')\n",
    "    nx.draw_networkx_nodes(G,pos,node_size = node_size,node_color='w')\n",
    "    nx.draw_networkx_edges(G,pos,alpha=alpha)\n",
    "    for l in range(k):\n",
    "        nx.draw_networkx_nodes(G,pos,node_size = node_size,nodelist = com[index[l]],node_color = color[l])\n",
    "    plt.show()"
   ]
  },
  {
   "cell_type": "code",
   "execution_count": 49,
   "metadata": {},
   "outputs": [],
   "source": [
    "def modularity_metrics(G, C):\n",
    "    \"\"\"\n",
    "    Computes the partition precision, Simpson's index and modularity\n",
    "    \n",
    "    Inputs:\n",
    "    G: graph on which is computed the modularity\n",
    "    C: array of clusters\n",
    "    \n",
    "    Outputs:\n",
    "    P: partition precision\n",
    "    S_inv: inverse of Simpson's index\n",
    "    Q: partition modularity\n",
    "    \"\"\"\n",
    "    \n",
    "\n",
    "    \n",
    "    n_edges = G.number_of_edges()\n",
    "    n = G.number_of_nodes()\n",
    "    n_clusters = len(C)\n",
    "    \n",
    "    P = 0\n",
    "    Q = 0\n",
    "    \n",
    "    S_inv = 1 / sum([len(cluster) ** 2 / n ** 2 for cluster in C])\n",
    "    \n",
    "    \n",
    "    m = {i: 0 for i in range(n_clusters)}\n",
    "    h = {i: 0 for i in range(n_clusters)}\n",
    "    \n",
    "    for i, cluster in enumerate(C):\n",
    "        sub_G = nx.subgraph(G, cluster)\n",
    "        m[i] = sub_G.number_of_edges() / n_edges\n",
    "        \n",
    "    \n",
    "    for i, cluster in enumerate(C):\n",
    "        h[i] = sum([nx.degree(G, node) for node in cluster]) ** 2 / (2 * n_edges) ** 2\n",
    "        \n",
    "    P = sum(list(m.values()))\n",
    "    \n",
    "    Q = P - sum(list(h.values()))\n",
    "    \n",
    "    \n",
    "    return P, S_inv ,Q"
   ]
  },
  {
   "cell_type": "code",
   "execution_count": 50,
   "metadata": {},
   "outputs": [],
   "source": [
    "# Louvain's optimized algorithm\n",
    "\n",
    "def louvain(G, sigma = 1):\n",
    "    return community.best_partition(G, resolution = 1. / sigma)"
   ]
  },
  {
   "cell_type": "code",
   "execution_count": 51,
   "metadata": {},
   "outputs": [],
   "source": [
    "def dict2list(com):\n",
    "    listC = []\n",
    "    C = []\n",
    "    for u,k in com.items():\n",
    "        if k not in listC:\n",
    "            listC.append(k)\n",
    "            C.append([u])\n",
    "        else:\n",
    "            C[listC.index(k)].append(u)\n",
    "    return C"
   ]
  },
  {
   "cell_type": "code",
   "execution_count": 52,
   "metadata": {
    "collapsed": false,
    "jupyter": {
     "outputs_hidden": false
    }
   },
   "outputs": [
    {
     "ename": "AttributeError",
     "evalue": "'set' object has no attribute 'is_directed'",
     "output_type": "error",
     "traceback": [
      "\u001b[0;31m---------------------------------------------------------------------------\u001b[0m",
      "\u001b[0;31mAttributeError\u001b[0m                            Traceback (most recent call last)",
      "\u001b[0;32m<ipython-input-52-c6e4397095f0>\u001b[0m in \u001b[0;36m<module>\u001b[0;34m\u001b[0m\n\u001b[1;32m      1\u001b[0m \u001b[0;31m# Clustering on core component\u001b[0m\u001b[0;34m\u001b[0m\u001b[0;34m\u001b[0m\u001b[0;34m\u001b[0m\u001b[0m\n\u001b[0;32m----> 2\u001b[0;31m \u001b[0mcom\u001b[0m \u001b[0;34m=\u001b[0m \u001b[0mlouvain\u001b[0m\u001b[0;34m(\u001b[0m\u001b[0mcore\u001b[0m\u001b[0;34m)\u001b[0m\u001b[0;34m\u001b[0m\u001b[0;34m\u001b[0m\u001b[0m\n\u001b[0m\u001b[1;32m      3\u001b[0m \u001b[0mC\u001b[0m \u001b[0;34m=\u001b[0m \u001b[0mdict2list\u001b[0m\u001b[0;34m(\u001b[0m\u001b[0mcom\u001b[0m\u001b[0;34m)\u001b[0m\u001b[0;34m\u001b[0m\u001b[0;34m\u001b[0m\u001b[0m\n\u001b[1;32m      4\u001b[0m \u001b[0mdisplay_graph\u001b[0m\u001b[0;34m(\u001b[0m\u001b[0mcore\u001b[0m\u001b[0;34m,\u001b[0m \u001b[0mC\u001b[0m\u001b[0;34m,\u001b[0m \u001b[0mcore_pos\u001b[0m\u001b[0;34m,\u001b[0m \u001b[0mfigsize\u001b[0m\u001b[0;34m=\u001b[0m\u001b[0;34m(\u001b[0m\u001b[0;36m12\u001b[0m\u001b[0;34m,\u001b[0m \u001b[0;36m8\u001b[0m\u001b[0;34m)\u001b[0m\u001b[0;34m,\u001b[0m \u001b[0mnode_size\u001b[0m\u001b[0;34m=\u001b[0m\u001b[0;36m50\u001b[0m\u001b[0;34m)\u001b[0m\u001b[0;34m\u001b[0m\u001b[0;34m\u001b[0m\u001b[0m\n\u001b[1;32m      5\u001b[0m \u001b[0;34m\u001b[0m\u001b[0m\n",
      "\u001b[0;32m<ipython-input-50-c7bc7f55b507>\u001b[0m in \u001b[0;36mlouvain\u001b[0;34m(G, sigma)\u001b[0m\n\u001b[1;32m      2\u001b[0m \u001b[0;34m\u001b[0m\u001b[0m\n\u001b[1;32m      3\u001b[0m \u001b[0;32mdef\u001b[0m \u001b[0mlouvain\u001b[0m\u001b[0;34m(\u001b[0m\u001b[0mG\u001b[0m\u001b[0;34m,\u001b[0m \u001b[0msigma\u001b[0m \u001b[0;34m=\u001b[0m \u001b[0;36m1\u001b[0m\u001b[0;34m)\u001b[0m\u001b[0;34m:\u001b[0m\u001b[0;34m\u001b[0m\u001b[0;34m\u001b[0m\u001b[0m\n\u001b[0;32m----> 4\u001b[0;31m     \u001b[0;32mreturn\u001b[0m \u001b[0mcommunity\u001b[0m\u001b[0;34m.\u001b[0m\u001b[0mbest_partition\u001b[0m\u001b[0;34m(\u001b[0m\u001b[0mG\u001b[0m\u001b[0;34m,\u001b[0m \u001b[0mresolution\u001b[0m \u001b[0;34m=\u001b[0m \u001b[0;36m1.\u001b[0m \u001b[0;34m/\u001b[0m \u001b[0msigma\u001b[0m\u001b[0;34m)\u001b[0m\u001b[0;34m\u001b[0m\u001b[0;34m\u001b[0m\u001b[0m\n\u001b[0m",
      "\u001b[0;32m~/miniconda3/envs/p37/lib/python3.7/site-packages/community/community_louvain.py\u001b[0m in \u001b[0;36mbest_partition\u001b[0;34m(graph, partition, weight, resolution, randomize, random_state)\u001b[0m\n\u001b[1;32m    247\u001b[0m                                 \u001b[0mresolution\u001b[0m\u001b[0;34m,\u001b[0m\u001b[0;34m\u001b[0m\u001b[0;34m\u001b[0m\u001b[0m\n\u001b[1;32m    248\u001b[0m                                 \u001b[0mrandomize\u001b[0m\u001b[0;34m,\u001b[0m\u001b[0;34m\u001b[0m\u001b[0;34m\u001b[0m\u001b[0m\n\u001b[0;32m--> 249\u001b[0;31m                                 random_state)\n\u001b[0m\u001b[1;32m    250\u001b[0m     \u001b[0;32mreturn\u001b[0m \u001b[0mpartition_at_level\u001b[0m\u001b[0;34m(\u001b[0m\u001b[0mdendo\u001b[0m\u001b[0;34m,\u001b[0m \u001b[0mlen\u001b[0m\u001b[0;34m(\u001b[0m\u001b[0mdendo\u001b[0m\u001b[0;34m)\u001b[0m \u001b[0;34m-\u001b[0m \u001b[0;36m1\u001b[0m\u001b[0;34m)\u001b[0m\u001b[0;34m\u001b[0m\u001b[0;34m\u001b[0m\u001b[0m\n\u001b[1;32m    251\u001b[0m \u001b[0;34m\u001b[0m\u001b[0m\n",
      "\u001b[0;32m~/miniconda3/envs/p37/lib/python3.7/site-packages/community/community_louvain.py\u001b[0m in \u001b[0;36mgenerate_dendrogram\u001b[0;34m(graph, part_init, weight, resolution, randomize, random_state)\u001b[0m\n\u001b[1;32m    314\u001b[0m     \u001b[0;34m:\u001b[0m\u001b[0mtype\u001b[0m \u001b[0mweight\u001b[0m\u001b[0;34m:\u001b[0m\u001b[0;34m\u001b[0m\u001b[0;34m\u001b[0m\u001b[0m\n\u001b[1;32m    315\u001b[0m     \"\"\"\n\u001b[0;32m--> 316\u001b[0;31m     \u001b[0;32mif\u001b[0m \u001b[0mgraph\u001b[0m\u001b[0;34m.\u001b[0m\u001b[0mis_directed\u001b[0m\u001b[0;34m(\u001b[0m\u001b[0;34m)\u001b[0m\u001b[0;34m:\u001b[0m\u001b[0;34m\u001b[0m\u001b[0;34m\u001b[0m\u001b[0m\n\u001b[0m\u001b[1;32m    317\u001b[0m         \u001b[0;32mraise\u001b[0m \u001b[0mTypeError\u001b[0m\u001b[0;34m(\u001b[0m\u001b[0;34m\"Bad graph type, use only non directed graph\"\u001b[0m\u001b[0;34m)\u001b[0m\u001b[0;34m\u001b[0m\u001b[0;34m\u001b[0m\u001b[0m\n\u001b[1;32m    318\u001b[0m \u001b[0;34m\u001b[0m\u001b[0m\n",
      "\u001b[0;31mAttributeError\u001b[0m: 'set' object has no attribute 'is_directed'"
     ]
    }
   ],
   "source": [
    "# Clustering on core component\n",
    "com = louvain(core)\n",
    "C = dict2list(com)\n",
    "display_graph(core, C, core_pos, figsize=(12, 8), node_size=50)\n",
    "\n",
    "print(\"Precision: %.2f\\nInverse Simpson's index: %.2f\\nModularity: %.2f\\n\" % (modularity_metrics(core, C)))"
   ]
  },
  {
   "cell_type": "markdown",
   "metadata": {},
   "source": [
    "We could expect up to 9 clusters on the core component according to Simpson's index"
   ]
  },
  {
   "cell_type": "code",
   "execution_count": 53,
   "metadata": {
    "collapsed": false,
    "jupyter": {
     "outputs_hidden": false
    }
   },
   "outputs": [
    {
     "data": {
      "image/png": "[encoded data removed]",
      "text/plain": [
       "<Figure size 864x576 with 1 Axes>"
      ]
     },
     "metadata": {},
     "output_type": "display_data"
    },
    {
     "name": "stdout",
     "output_type": "stream",
     "text": [
      "Precision: 0.79\n",
      "Inverse Simpson's index: 17.83\n",
      "Modularity: 0.72\n",
      "\n"
     ]
    }
   ],
   "source": [
    "# Clustering on entire graph\n",
    "com = louvain(G)\n",
    "C = dict2list(com)\n",
    "display_graph(G, C, pos, figsize=(12, 8), node_size=50)\n",
    "\n",
    "print(\"Precision: %.2f\\nInverse Simpson's index: %.2f\\nModularity: %.2f\\n\" % (modularity_metrics(G, C)))"
   ]
  },
  {
   "cell_type": "markdown",
   "metadata": {},
   "source": [
    "This clustering visualization is not satisfying but time is running out."
   ]
  },
  {
   "cell_type": "markdown",
   "metadata": {},
   "source": [
    "### Conclusion:\n",
    "\n",
    "There is much more to explore on this original dataset.\n",
    "\n",
    "Besides the endless different strategies to aggregate the data that we could have used (such as pipelining different ListGenerator to get more edges but maybe also redundant connections), we were still able to compute basic metrics we studied in class.\n",
    "\n",
    "I am glad this dataset worked out since I was skeptical at first when I saw the average degree been so low (around 2).\n",
    "\n",
    "Although the Power Law beneath the degree distribution is not clear cut, this particular degree distribution provides yet another example that Erdös-Rényi graphs are not able to accurately describe real data graphs."
   ]
  }
 ],
 "metadata": {
  "anaconda-cloud": {},
  "kernelspec": {
   "display_name": "Python 3",
   "language": "python",
   "name": "python3"
  },
  "language_info": {
   "codemirror_mode": {
    "name": "ipython",
    "version": 3
   },
   "file_extension": ".py",
   "mimetype": "text/x-python",
   "name": "python",
   "nbconvert_exporter": "python",
   "pygments_lexer": "ipython3",
   "version": "3.7.1"
  }
 },
 "nbformat": 4,
 "nbformat_minor": 4
}
